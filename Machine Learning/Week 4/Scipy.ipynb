{
  "cells": [
    {
      "cell_type": "markdown",
      "metadata": {
        "id": "XGEvYeJwnI-g"
      },
      "source": [
        "[**scipy**](https://docs.scipy.org/doc/scipy/tutorial/linalg.html)"
      ]
    },
    {
      "cell_type": "code",
      "execution_count": 1,
      "metadata": {
        "id": "g79a2zxkPVPo"
      },
      "outputs": [],
      "source": [
        "import numpy as np\n",
        "from scipy import linalg"
      ]
    },
    {
      "cell_type": "code",
      "execution_count": 2,
      "metadata": {
        "colab": {
          "base_uri": "https://localhost:8080/"
        },
        "id": "9IZdLoM6TNfl",
        "outputId": "a2df95db-054f-480c-ebd7-7cacbab01712"
      },
      "outputs": [
        {
          "name": "stdout",
          "output_type": "stream",
          "text": [
            "A:\n",
            " [[1 2]\n",
            " [3 4]]\n",
            "inv(A):\n",
            " [[-2.   1. ]\n",
            " [ 1.5 -0.5]]\n",
            "Transpose(A):\n",
            " [[1 3]\n",
            " [2 4]]\n"
          ]
        }
      ],
      "source": [
        "A = np.array([[1,2],[3,4]])\n",
        "print(\"A:\\n\",A)\n",
        "print(\"inv(A):\\n\",linalg.inv(A))\n",
        "print(\"Transpose(A):\\n\",A.T)"
      ]
    },
    {
      "cell_type": "markdown",
      "metadata": {
        "id": "Bf1a0fI0W4Pj"
      },
      "source": [
        "# Finding the inverse"
      ]
    },
    {
      "cell_type": "code",
      "execution_count": 3,
      "metadata": {
        "colab": {
          "base_uri": "https://localhost:8080/"
        },
        "id": "QCaeUCGfWQLS",
        "outputId": "5f89187e-4bef-4d0a-be24-102dae9cdad8"
      },
      "outputs": [
        {
          "name": "stdout",
          "output_type": "stream",
          "text": [
            "[[1 3 5]\n",
            " [2 5 1]\n",
            " [2 3 8]]\n",
            "[[-1.48  0.36  0.88]\n",
            " [ 0.56  0.08 -0.36]\n",
            " [ 0.16 -0.12  0.04]]\n",
            "[[ 1.00000000e+00 -1.11022302e-16  4.85722573e-17]\n",
            " [ 3.05311332e-16  1.00000000e+00  7.63278329e-17]\n",
            " [ 2.22044605e-16 -1.11022302e-16  1.00000000e+00]]\n"
          ]
        }
      ],
      "source": [
        "A = np.array([[1,3,5],[2,5,1],[2,3,8]])\n",
        "B = linalg.inv(A)\n",
        "I = A@B\n",
        "print(A)\n",
        "print(B)\n",
        "print(I)"
      ]
    },
    {
      "cell_type": "markdown",
      "metadata": {
        "id": "y9pZUSW6W0Fa"
      },
      "source": [
        "# Solving a linear system"
      ]
    },
    {
      "cell_type": "code",
      "execution_count": 4,
      "metadata": {
        "colab": {
          "base_uri": "https://localhost:8080/"
        },
        "id": "ZhwZl-wIWyic",
        "outputId": "baf0aad7-2c91-4733-b5b5-45102da06204"
      },
      "outputs": [
        {
          "name": "stdout",
          "output_type": "stream",
          "text": [
            "[[-9.28]\n",
            " [ 5.16]\n",
            " [ 0.76]]\n",
            "[[ 0.00000000e+00]\n",
            " [-1.77635684e-15]\n",
            " [-8.88178420e-16]]\n",
            "[[-9.28]\n",
            " [ 5.16]\n",
            " [ 0.76]]\n",
            "[[ 0.00000000e+00]\n",
            " [-1.77635684e-15]\n",
            " [-1.77635684e-15]]\n"
          ]
        }
      ],
      "source": [
        "#A*x=b\n",
        "A = np.array([[1,3,5],[2,5,1],[2,3,8]])\n",
        "b = np.array([[10,8,3]])\n",
        "x = linalg.inv(A)@b.T # Slow\n",
        "print(x)\n",
        "print(A@x-b.T)\n",
        "x = np.linalg.solve(A,b.T) # Fast\n",
        "print(x)\n",
        "print(A.dot(x)-b.T)"
      ]
    },
    {
      "cell_type": "markdown",
      "metadata": {
        "id": "hAqdAJtiiOtm"
      },
      "source": [
        "# Finding the determinant"
      ]
    },
    {
      "cell_type": "code",
      "execution_count": 7,
      "metadata": {
        "colab": {
          "base_uri": "https://localhost:8080/"
        },
        "id": "8a9rRllgiadZ",
        "outputId": "259041c4-672a-4af3-a7b4-8c6f94cb383f"
      },
      "outputs": [
        {
          "data": {
            "text/plain": [
              "array([[1, 2],\n",
              "       [3, 4]])"
            ]
          },
          "execution_count": 7,
          "metadata": {},
          "output_type": "execute_result"
        }
      ],
      "source": [
        "A = np.array([[1,2],[3,4]])\n",
        "A"
      ]
    },
    {
      "cell_type": "code",
      "execution_count": 6,
      "metadata": {
        "colab": {
          "base_uri": "https://localhost:8080/"
        },
        "id": "_B4ncSt_ieH6",
        "outputId": "d6f17b6b-dc8b-425d-aa07-5030681b07e3"
      },
      "outputs": [
        {
          "data": {
            "text/plain": [
              "-2.0"
            ]
          },
          "execution_count": 6,
          "metadata": {},
          "output_type": "execute_result"
        }
      ],
      "source": [
        "linalg.det(A)"
      ]
    },
    {
      "cell_type": "markdown",
      "metadata": {
        "id": "NAg-TBhglqNP"
      },
      "source": [
        "# **Decompositions**\n"
      ]
    },
    {
      "cell_type": "markdown",
      "metadata": {
        "id": "esDfmOiOlu0o"
      },
      "source": [
        "# Eigenvalues and eigenvectors"
      ]
    },
    {
      "cell_type": "code",
      "execution_count": 8,
      "metadata": {
        "colab": {
          "base_uri": "https://localhost:8080/"
        },
        "id": "nTs5s9xmlpx9",
        "outputId": "8936284b-1107-4fb2-b907-b3924eee1435"
      },
      "outputs": [
        {
          "name": "stdout",
          "output_type": "stream",
          "text": [
            "(-0.3722813232690143+0j) (5.372281323269014+0j)\n",
            "[-0.82456484  0.56576746]\n",
            "[-0.41597356 -0.90937671]\n",
            "[1. 1.]\n",
            "5.551115123125783e-17\n"
          ]
        }
      ],
      "source": [
        "la, v = linalg.eig(A)\n",
        "l1, l2 = la\n",
        "print(l1, l2)   # eigenvalues\n",
        "print(v[:, 0])   # first eigenvector\n",
        "print(v[:, 1])   # second eigenvector\n",
        "print(np.sum(abs(v**2), axis=0))  # eigenvectors are unitary\n",
        "v1 = np.array(v[:, 0]).T\n",
        "print(linalg.norm(A.dot(v1) - l1*v1))  # check the computation"
      ]
    },
    {
      "cell_type": "markdown",
      "metadata": {
        "id": "-PMrBVOomV7p"
      },
      "source": [
        "# Singular value decomposition"
      ]
    },
    {
      "cell_type": "code",
      "execution_count": 18,
      "metadata": {
        "colab": {
          "base_uri": "https://localhost:8080/"
        },
        "id": "1iQX_6GWmb3v",
        "outputId": "346574aa-59ca-4d79-c56a-e6b5d7c2d0db"
      },
      "outputs": [
        {
          "data": {
            "text/plain": [
              "array([[1, 2, 3],\n",
              "       [4, 5, 6]])"
            ]
          },
          "execution_count": 18,
          "metadata": {},
          "output_type": "execute_result"
        }
      ],
      "source": [
        "A = np.array([[1,2,3],[4,5,6]])\n",
        "A"
      ]
    },
    {
      "cell_type": "code",
      "execution_count": 19,
      "metadata": {
        "colab": {
          "base_uri": "https://localhost:8080/"
        },
        "id": "jsa0zDy3mf8-",
        "outputId": "147af3e6-900b-40f8-9200-5e2694c0ab5e"
      },
      "outputs": [
        {
          "data": {
            "text/plain": [
              "array([[-0.3863177 , -0.92236578],\n",
              "       [-0.92236578,  0.3863177 ]])"
            ]
          },
          "execution_count": 19,
          "metadata": {},
          "output_type": "execute_result"
        }
      ],
      "source": [
        "M,N = A.shape\n",
        "U,s,Vh = linalg.svd(A)\n",
        "Sig = linalg.diagsvd(s,M,N)\n",
        "U"
      ]
    },
    {
      "cell_type": "code",
      "execution_count": 20,
      "metadata": {
        "colab": {
          "base_uri": "https://localhost:8080/"
        },
        "id": "fiKqoN5umkGH",
        "outputId": "39b039fe-e276-4d7a-cafb-936b8b564ede"
      },
      "outputs": [
        {
          "data": {
            "text/plain": [
              "array([[9.508032  , 0.        , 0.        ],\n",
              "       [0.        , 0.77286964, 0.        ]])"
            ]
          },
          "execution_count": 20,
          "metadata": {},
          "output_type": "execute_result"
        }
      ],
      "source": [
        "Sig"
      ]
    },
    {
      "cell_type": "code",
      "execution_count": 21,
      "metadata": {
        "colab": {
          "base_uri": "https://localhost:8080/"
        },
        "id": "gPnw4Sdtmn7Q",
        "outputId": "0ca28ada-255e-4fea-d40a-a5e9cd967382"
      },
      "outputs": [
        {
          "data": {
            "text/plain": [
              "array([[-0.42866713, -0.56630692, -0.7039467 ],\n",
              "       [ 0.80596391,  0.11238241, -0.58119908],\n",
              "       [ 0.40824829, -0.81649658,  0.40824829]])"
            ]
          },
          "execution_count": 21,
          "metadata": {},
          "output_type": "execute_result"
        }
      ],
      "source": [
        "Vh"
      ]
    },
    {
      "cell_type": "code",
      "execution_count": 22,
      "metadata": {
        "colab": {
          "base_uri": "https://localhost:8080/"
        },
        "id": "Wgv2Qinsmstj",
        "outputId": "91bffcb0-1501-480e-d11f-491a8353cc5d"
      },
      "outputs": [
        {
          "data": {
            "text/plain": [
              "array([[1., 2., 3.],\n",
              "       [4., 5., 6.]])"
            ]
          },
          "execution_count": 22,
          "metadata": {},
          "output_type": "execute_result"
        }
      ],
      "source": [
        "U.dot(Sig.dot(Vh)) #check computation"
      ]
    },
    {
      "cell_type": "markdown",
      "metadata": {},
      "source": [
        "By: Eng. Alaa Alnissany"
      ]
    }
  ],
  "metadata": {
    "colab": {
      "provenance": []
    },
    "kernelspec": {
      "display_name": "Python 3",
      "name": "python3"
    },
    "language_info": {
      "name": "python"
    }
  },
  "nbformat": 4,
  "nbformat_minor": 0
}
