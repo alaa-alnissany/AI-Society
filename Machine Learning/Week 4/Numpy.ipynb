{
  "cells": [
    {
      "cell_type": "code",
      "execution_count": null,
      "metadata": {
        "id": "wTa78Q62EVsS"
      },
      "outputs": [],
      "source": [
        "import numpy as np"
      ]
    },
    {
      "cell_type": "markdown",
      "metadata": {
        "id": "1Gn7simNMhRi"
      },
      "source": [
        "#Creat an array"
      ]
    },
    {
      "cell_type": "code",
      "execution_count": null,
      "metadata": {
        "colab": {
          "base_uri": "https://localhost:8080/"
        },
        "id": "2l-aStzvMrLp",
        "outputId": "90b2f1da-e687-4f03-9138-64f9bd855ce5"
      },
      "outputs": [
        {
          "name": "stdout",
          "output_type": "stream",
          "text": [
            "[0 1 2 3]\n"
          ]
        }
      ],
      "source": [
        "#a_arr = np.array(0,1,2,3) #WRONG\n",
        "a_arr = np.array([0,1,2,3])\n",
        "# or\n",
        "a = [0,1,2,3]\n",
        "a_arr = np.array(a)\n",
        "print(a_arr)"
      ]
    },
    {
      "cell_type": "markdown",
      "metadata": {
        "id": "sC0B6KqgN3jN"
      },
      "source": [
        "Creat an array full of zeros"
      ]
    },
    {
      "cell_type": "code",
      "execution_count": null,
      "metadata": {
        "colab": {
          "base_uri": "https://localhost:8080/"
        },
        "id": "DTBRzmfaN2pU",
        "outputId": "ba5f942d-0fbc-4277-fc35-3266544c9e53"
      },
      "outputs": [
        {
          "name": "stdout",
          "output_type": "stream",
          "text": [
            "[[0. 0. 0. 0. 0.]\n",
            " [0. 0. 0. 0. 0.]\n",
            " [0. 0. 0. 0. 0.]]\n"
          ]
        }
      ],
      "source": [
        "a_arr = np.zeros((3,5))\n",
        "print(a_arr)"
      ]
    },
    {
      "cell_type": "markdown",
      "metadata": {
        "id": "NQA2ihSSO6y1"
      },
      "source": [
        "Creat an array full of ones"
      ]
    },
    {
      "cell_type": "code",
      "execution_count": null,
      "metadata": {
        "colab": {
          "base_uri": "https://localhost:8080/"
        },
        "id": "T-EQWSnJOh64",
        "outputId": "e5b9dbae-f81b-4fe3-df1f-28a6fd2e50b4"
      },
      "outputs": [
        {
          "name": "stdout",
          "output_type": "stream",
          "text": [
            "[[1. 1. 1. 1. 1.]\n",
            " [1. 1. 1. 1. 1.]\n",
            " [1. 1. 1. 1. 1.]]\n"
          ]
        }
      ],
      "source": [
        "a_arr = np.ones((3,5))\n",
        "print(a_arr)"
      ]
    },
    {
      "cell_type": "markdown",
      "metadata": {
        "id": "1EqpDj5yO88H"
      },
      "source": [
        "Creat an array full of random and depends on the state of the memory"
      ]
    },
    {
      "cell_type": "code",
      "execution_count": null,
      "metadata": {
        "colab": {
          "base_uri": "https://localhost:8080/"
        },
        "id": "lmQWHW0EOkU2",
        "outputId": "0c6572c8-6668-4f79-c631-6ed0e8335382"
      },
      "outputs": [
        {
          "name": "stdout",
          "output_type": "stream",
          "text": [
            "[[1. 1. 1. 1. 1.]\n",
            " [1. 1. 1. 1. 1.]\n",
            " [1. 1. 1. 1. 1.]]\n"
          ]
        }
      ],
      "source": [
        "a_arr = np.empty((3,5),dtype= float)\n",
        "print(a_arr)"
      ]
    },
    {
      "cell_type": "markdown",
      "metadata": {
        "id": "g8gGggAwQflF"
      },
      "source": [
        "Create a vector between two numbers and by step"
      ]
    },
    {
      "cell_type": "code",
      "execution_count": null,
      "metadata": {
        "colab": {
          "base_uri": "https://localhost:8080/"
        },
        "id": "XUy2RP3ZRuJ8",
        "outputId": "4c316e7a-2f73-42ac-9503-66b86cd354d8"
      },
      "outputs": [
        {
          "data": {
            "text/plain": [
              "array([0, 1, 2, 3, 4, 5, 6, 7, 8, 9])"
            ]
          },
          "execution_count": 65,
          "metadata": {},
          "output_type": "execute_result"
        }
      ],
      "source": [
        "a_arr = np.arange(10)\n",
        "a_arr"
      ]
    },
    {
      "cell_type": "code",
      "execution_count": null,
      "metadata": {
        "colab": {
          "base_uri": "https://localhost:8080/"
        },
        "id": "mZ0nnKAgP5E-",
        "outputId": "88312aa4-16f3-4422-ff27-dedcb0f4f335"
      },
      "outputs": [
        {
          "data": {
            "text/plain": [
              "array([10, 12, 14, 16, 18, 20])"
            ]
          },
          "execution_count": 68,
          "metadata": {},
          "output_type": "execute_result"
        }
      ],
      "source": [
        "a_arr = np.arange(10,22,2) # 0.5\n",
        "a_arr"
      ]
    },
    {
      "cell_type": "markdown",
      "metadata": {
        "id": "w5yFz0JiRCgt"
      },
      "source": [
        "Create a vector between two numbers and by our number of partitions"
      ]
    },
    {
      "cell_type": "code",
      "execution_count": null,
      "metadata": {
        "colab": {
          "base_uri": "https://localhost:8080/"
        },
        "id": "ulecM6OdQeld",
        "outputId": "2515e438-5b0d-4652-d41a-53387609e9e8"
      },
      "outputs": [
        {
          "data": {
            "text/plain": [
              "array([10., 13., 16., 19., 22.])"
            ]
          },
          "execution_count": 67,
          "metadata": {},
          "output_type": "execute_result"
        }
      ],
      "source": [
        "a_arr = np.linspace(10,22,5)\n",
        "a_arr"
      ]
    },
    {
      "cell_type": "markdown",
      "metadata": {
        "id": "DlzssSVWSykf"
      },
      "source": [
        "Transpose a Vector"
      ]
    },
    {
      "cell_type": "code",
      "execution_count": null,
      "metadata": {
        "colab": {
          "base_uri": "https://localhost:8080/"
        },
        "id": "DHAbz4BoSxGv",
        "outputId": "b0c65008-53eb-48da-ad1b-960c9601f087"
      },
      "outputs": [
        {
          "data": {
            "text/plain": [
              "array([[10],\n",
              "       [12],\n",
              "       [14],\n",
              "       [16],\n",
              "       [18],\n",
              "       [20]])"
            ]
          },
          "execution_count": 72,
          "metadata": {},
          "output_type": "execute_result"
        }
      ],
      "source": [
        "a_arr = np.arange(10,22,2).reshape(-1,1)\n",
        "a_arr"
      ]
    },
    {
      "cell_type": "markdown",
      "metadata": {
        "id": "jy1qmMJOSQ3M"
      },
      "source": [
        "Create an array from a 1D vector"
      ]
    },
    {
      "cell_type": "code",
      "execution_count": null,
      "metadata": {
        "colab": {
          "base_uri": "https://localhost:8080/"
        },
        "id": "Tyf9t4HNSG3V",
        "outputId": "25b4fb51-4d51-4f8b-919d-3b264f1d395b"
      },
      "outputs": [
        {
          "data": {
            "text/plain": [
              "array([[10, 12, 14],\n",
              "       [16, 18, 20]])"
            ]
          },
          "execution_count": 73,
          "metadata": {},
          "output_type": "execute_result"
        }
      ],
      "source": [
        "a_arr = np.arange(10,22,2).reshape(2,3)\n",
        "a_arr"
      ]
    },
    {
      "cell_type": "code",
      "execution_count": null,
      "metadata": {
        "colab": {
          "base_uri": "https://localhost:8080/"
        },
        "id": "MTLl--jyTBui",
        "outputId": "71131cac-f6ff-4445-83dc-4628d6714c3f"
      },
      "outputs": [
        {
          "data": {
            "text/plain": [
              "array([[[10.        , 11.71428571],\n",
              "        [13.42857143, 15.14285714]],\n",
              "\n",
              "       [[16.85714286, 18.57142857],\n",
              "        [20.28571429, 22.        ]]])"
            ]
          },
          "execution_count": 75,
          "metadata": {},
          "output_type": "execute_result"
        }
      ],
      "source": [
        "a_arr = np.linspace(10,22,8).reshape(2,2,2)\n",
        "a_arr"
      ]
    },
    {
      "cell_type": "markdown",
      "metadata": {
        "id": "Ayl1XgLONUEo"
      },
      "source": [
        "# Array Attributes"
      ]
    },
    {
      "cell_type": "code",
      "execution_count": null,
      "metadata": {
        "colab": {
          "base_uri": "https://localhost:8080/"
        },
        "id": "_-iuR5bcINIz",
        "outputId": "473d8992-4103-46fe-b2d9-fbd10ef53123"
      },
      "outputs": [
        {
          "name": "stdout",
          "output_type": "stream",
          "text": [
            "<class 'list'>\n"
          ]
        }
      ],
      "source": [
        "#a = [1, 2, 3, 4]\n",
        "\n",
        "a = [\n",
        "    [0, 1],\n",
        "     [0, 5]\n",
        "     ]\n",
        "\"\"\"\n",
        "a = [\n",
        "    [[0, 1, 1, 2], [1, 0, 0, 0],[0, 1, 1, 2]],\n",
        "     [[2, 2, 3, 3], [6, 2, 1, 3],[1, 0, 0, 0]]\n",
        "     ]\n",
        "\"\"\"\n",
        "print(type(a))"
      ]
    },
    {
      "cell_type": "code",
      "execution_count": null,
      "metadata": {
        "colab": {
          "base_uri": "https://localhost:8080/"
        },
        "id": "pXREF7y5EfjB",
        "outputId": "805b33fe-2477-4486-bb4e-753324033a41"
      },
      "outputs": [
        {
          "name": "stdout",
          "output_type": "stream",
          "text": [
            "<class 'numpy.ndarray'>\n",
            "Number of Dimentions:  2\n",
            "Shape of the Array:  (2, 2)\n",
            "Size of the Array:  4\n",
            "Type of the Array:  int64\n",
            "item size (in bytes) of the Array:  8\n",
            "Buffer adress of the Array:  <memory at 0x7fa0cc81bad0>\n"
          ]
        },
        {
          "data": {
            "text/plain": [
              "array([[0, 1],\n",
              "       [0, 5]])"
            ]
          },
          "execution_count": 41,
          "metadata": {},
          "output_type": "execute_result"
        }
      ],
      "source": [
        "a_arr = np.array(a)\n",
        "print(type(a_arr))\n",
        "print(\"Number of Dimentions: \" ,a_arr.ndim)\n",
        "print(\"Shape of the Array: \" ,a_arr.shape)\n",
        "print(\"Size of the Array: \" ,a_arr.size)\n",
        "print(\"Type of the Array: \" ,a_arr.dtype)\n",
        "print(\"item size (in bytes) of the Array: \" ,a_arr.itemsize)\n",
        "print(\"Buffer adress of the Array: \" ,a_arr.data) # the buffer containing the actual elements\n",
        "a_arr"
      ]
    },
    {
      "cell_type": "markdown",
      "metadata": {
        "id": "65HNrnrsPbNm"
      },
      "source": [
        "To save time we define a function to print Array's Attributes"
      ]
    },
    {
      "cell_type": "code",
      "execution_count": null,
      "metadata": {
        "id": "QYcSWqbUHhs2"
      },
      "outputs": [],
      "source": [
        "def print_att(np_array):\n",
        "  print(type(a_arr))\n",
        "  print(\"Number of Dimentions: \" ,np_array.ndim)\n",
        "  print(\"Shape of the Array: \" ,np_array.shape)\n",
        "  print(\"Size of the Array: \" ,np_array.size)\n",
        "  print(\"Type of the Array: \" ,np_array.dtype)\n",
        "  print(\"item size (in bytes) of the Array: \" ,np_array.itemsize)\n",
        "  print(\"Buffer adress of the Array: \" ,np_array.data) # the buffer containing the actual elements\n"
      ]
    },
    {
      "cell_type": "code",
      "execution_count": null,
      "metadata": {
        "colab": {
          "base_uri": "https://localhost:8080/"
        },
        "id": "3RTtQ052Ige1",
        "outputId": "5fcf938a-41d4-4b38-cb28-4373eda1e5fd"
      },
      "outputs": [
        {
          "name": "stdout",
          "output_type": "stream",
          "text": [
            "<class 'numpy.ndarray'>\n",
            "Number of Dimentions:  2\n",
            "Shape of the Array:  (2, 2)\n",
            "Size of the Array:  4\n",
            "Type of the Array:  int32\n",
            "item size (in bytes) of the Array:  4\n",
            "Buffer adress of the Array:  <memory at 0x7fa0cc81bad0>\n"
          ]
        },
        {
          "data": {
            "text/plain": [
              "array([[0, 1],\n",
              "       [0, 5]], dtype=int32)"
            ]
          },
          "execution_count": 42,
          "metadata": {},
          "output_type": "execute_result"
        }
      ],
      "source": [
        "a_arr = np.array(a,dtype=\"int32\")\n",
        "print_att(a_arr)\n",
        "a_arr"
      ]
    },
    {
      "cell_type": "code",
      "execution_count": null,
      "metadata": {
        "colab": {
          "base_uri": "https://localhost:8080/"
        },
        "id": "CpS7k4JbLjF6",
        "outputId": "8290bae0-b253-4e50-d660-6b3a257e62a2"
      },
      "outputs": [
        {
          "name": "stdout",
          "output_type": "stream",
          "text": [
            "<class 'numpy.ndarray'>\n",
            "Number of Dimentions:  2\n",
            "Shape of the Array:  (2, 2)\n",
            "Size of the Array:  4\n",
            "Type of the Array:  float64\n",
            "item size (in bytes) of the Array:  8\n",
            "Buffer adress of the Array:  <memory at 0x7fa0cc81bad0>\n"
          ]
        },
        {
          "data": {
            "text/plain": [
              "array([[0., 1.],\n",
              "       [0., 5.]])"
            ]
          },
          "execution_count": 43,
          "metadata": {},
          "output_type": "execute_result"
        }
      ],
      "source": [
        "a_arr = np.array(a,dtype=\"float\")\n",
        "print_att(a_arr)\n",
        "a_arr"
      ]
    },
    {
      "cell_type": "code",
      "execution_count": null,
      "metadata": {
        "colab": {
          "base_uri": "https://localhost:8080/"
        },
        "id": "xC6WD01BNjgx",
        "outputId": "1f8e33bf-3c13-40af-b8e4-01922874b820"
      },
      "outputs": [
        {
          "name": "stdout",
          "output_type": "stream",
          "text": [
            "<class 'numpy.ndarray'>\n",
            "Number of Dimentions:  2\n",
            "Shape of the Array:  (2, 2)\n",
            "Size of the Array:  4\n",
            "Type of the Array:  complex128\n",
            "item size (in bytes) of the Array:  16\n",
            "Buffer adress of the Array:  <memory at 0x7fa0cc61b1e0>\n"
          ]
        },
        {
          "data": {
            "text/plain": [
              "array([[0.+0.j, 1.+0.j],\n",
              "       [0.+0.j, 5.+0.j]])"
            ]
          },
          "execution_count": 46,
          "metadata": {},
          "output_type": "execute_result"
        }
      ],
      "source": [
        "a_arr = np.array(a,dtype=\"complex\")\n",
        "print_att(a_arr)\n",
        "a_arr"
      ]
    },
    {
      "cell_type": "markdown",
      "metadata": {
        "id": "On9gscbvdSp4"
      },
      "source": [
        "# Basic Operations"
      ]
    },
    {
      "cell_type": "code",
      "execution_count": null,
      "metadata": {
        "colab": {
          "base_uri": "https://localhost:8080/"
        },
        "id": "ZuWSPueBdVWh",
        "outputId": "41bc43be-8835-4416-abcd-47bd6b0a64c8"
      },
      "outputs": [
        {
          "name": "stdout",
          "output_type": "stream",
          "text": [
            "a = [1 2 3 0 4]\n",
            "b = [0 1 2 3 4]\n",
            "a+b=  [1 3 5 3 8]\n",
            "a*b=  [ 0  2  6  0 16]\n",
            "a@b=  24\n",
            "a**2=  [ 1  4  9  0 16]\n",
            "Cos(a*pi)=  [ 0.80901699  0.30901699 -0.30901699  1.         -0.80901699]\n",
            "True if a(i)>2 else False: \n",
            " [False False  True False  True]\n",
            "a.sum()=  10\n",
            "a.max()=  4\n",
            "a.min()=  0\n",
            "sqrt(a)=  [1.         1.41421356 1.73205081 0.         2.        ]\n",
            "exp(a)=  [ 2.71828183  7.3890561  20.08553692  1.         54.59815003]\n"
          ]
        }
      ],
      "source": [
        "a = np.array([1,2,3,0,4])\n",
        "print(\"a =\", a)\n",
        "b = np.arange(5)\n",
        "print(\"b =\", b)\n",
        "print(\"a+b= \",a+b)\n",
        "print(\"a*b= \",a*b) # multiplying each element from a with the corresponding element from b\n",
        "print(\"a@b= \",a@b) # dot product\n",
        "print(\"a**2= \",a**2)\n",
        "print(\"Cos(a*pi)= \",np.cos(a*np.pi/5))\n",
        "print(\"True if a(i)>2 else False: \\n\", a>2)\n",
        "print(\"a.sum()= \",a.sum())\n",
        "print(\"a.max()= \",a.max())\n",
        "print(\"a.min()= \",a.min())\n",
        "print(\"sqrt(a)= \",np.sqrt(a))\n",
        "print(\"exp(a)= \",np.exp(a))"
      ]
    },
    {
      "cell_type": "code",
      "execution_count": null,
      "metadata": {
        "colab": {
          "base_uri": "https://localhost:8080/"
        },
        "id": "56n6JGM6f0Jl",
        "outputId": "68d3816c-353e-4cc0-d024-77a214de1344"
      },
      "outputs": [
        {
          "name": "stdout",
          "output_type": "stream",
          "text": [
            "A=  [[1 2]\n",
            " [3 4]]\n",
            "B=  [[2. 4.]\n",
            " [6. 8.]]\n",
            "A@B= \n",
            " [[14. 20.]\n",
            " [30. 44.]]\n",
            "A.dot(B)= \n",
            " [[14. 20.]\n",
            " [30. 44.]]\n",
            "A.sum()=  [4 6]\n",
            "A.max()=  [3 4]\n",
            "A.min()=  [1 3]\n",
            "\n",
            "A.cumsum()\n",
            " [[1 3]\n",
            " [3 7]]\n",
            "\n",
            "vstack\n",
            " [[1. 2.]\n",
            " [3. 4.]\n",
            " [2. 4.]\n",
            " [6. 8.]]\n",
            "\n",
            "hstack\n",
            " [[1. 2. 2. 4.]\n",
            " [3. 4. 6. 8.]]\n"
          ]
        }
      ],
      "source": [
        "A = np.array([[1,2],[3,4]])\n",
        "B = np.linspace(2,8,4).reshape(2,2)\n",
        "print(\"A= \",A)\n",
        "print(\"B= \",B)\n",
        "print(\"A@B= \\n\",A@B)\n",
        "print(\"A.dot(B)= \\n\",A.dot(B))\n",
        "print(\"A.sum()= \",A.sum(axis=0)) # sum of each column\n",
        "print(\"A.max()= \",A.max(axis=0)) # max of each column\n",
        "print(\"A.min()= \",A.min(axis=1)) # min of each row\n",
        "print(\"\\nA.cumsum()\\n\",A.cumsum(axis=1))  # cumulative sum along each row\n",
        "print(\"\\nvstack\\n\",np.vstack((A,B)))\n",
        "print(\"\\nhstack\\n\",np.hstack((A,B)))"
      ]
    },
    {
      "cell_type": "code",
      "execution_count": null,
      "metadata": {
        "colab": {
          "base_uri": "https://localhost:8080/"
        },
        "id": "2bn3b_n6ezQX",
        "outputId": "faf0d4b3-2756-46e4-c93b-a9cd2e6971a7"
      },
      "outputs": [
        {
          "name": "stdout",
          "output_type": "stream",
          "text": [
            "Random Matrix:  [[0.51182162 0.9504637  0.14415961]\n",
            " [0.94864945 0.31183145 0.42332645]]\n",
            "Element type name:  float64\n"
          ]
        }
      ],
      "source": [
        "rg = np.random.default_rng(seed= 1) # create instance of default random number generator\n",
        "a = rg.random((2,3))\n",
        "print(\"Random Matrix: \", a)\n",
        "print(\"Element type name: \",a.dtype.name)"
      ]
    },
    {
      "cell_type": "code",
      "execution_count": null,
      "metadata": {
        "colab": {
          "base_uri": "https://localhost:8080/"
        },
        "id": "2PCOdGlgqw01",
        "outputId": "490ad4d7-a844-4812-d8c5-7b2627f3f423"
      },
      "outputs": [
        {
          "name": "stdout",
          "output_type": "stream",
          "text": [
            "[[ 0.  1.  2.  3.]\n",
            " [ 5.  6.  7.  8.]\n",
            " [10. 11. 12. 13.]\n",
            " [15. 16. 17. 18.]\n",
            " [20. 21. 22. 23.]]\n",
            "[ 0.  1.  2.  3.  5.  6.  7.  8. 10. 11. 12. 13. 15. 16. 17. 18. 20. 21.\n",
            " 22. 23.]\n"
          ]
        }
      ],
      "source": [
        "def f(x,y):\n",
        "  return 5*x+y\n",
        "\n",
        "b = np.fromfunction(f,(5,4))\n",
        "print(b)\n",
        "print(b.ravel()) # returns the array, flattened"
      ]
    },
    {
      "cell_type": "markdown",
      "metadata": {},
      "source": [
        "By: Eng. Alaa Alnissany"
      ]
    }
  ],
  "metadata": {
    "colab": {
      "provenance": []
    },
    "kernelspec": {
      "display_name": "Python 3",
      "name": "python3"
    },
    "language_info": {
      "name": "python"
    }
  },
  "nbformat": 4,
  "nbformat_minor": 0
}
