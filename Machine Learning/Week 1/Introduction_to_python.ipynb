{
 "cells": [
  {
   "cell_type": "markdown",
   "id": "dccc2cc5-d3ef-4d91-8cc8-c9897d549801",
   "metadata": {},
   "source": [
    "# Introduction to Python\n",
    "\n",
    "## What is Python?\n",
    "Python is a versatile, high-level programming language known for its simplicity and readability. It's widely used in web development, data analysis, scientific research, and more.\n",
    "\n",
    "## Python Syntax\n",
    "### 1. Variables\n",
    "- Python uses dynamic typing, meaning you don't need to declare a variable's data type explicitly.\n",
    "- Variables can store different data types (e.g., integers, floats, strings).\n",
    "\n",
    "```python\n",
    "name = \"John\"  # String\n",
    "age = 30       # Integer\n",
    "height = 1.75  # Float\n"
   ]
  },
  {
   "cell_type": "markdown",
   "id": "65025a88-7f62-4733-8a05-0a0d87ae936a",
   "metadata": {},
   "source": [
    "### 2. Data Types\n",
    "- Python has several built-in data types, including:\n",
    "    - int: Integers\n",
    "    - float: Floating-point numbers\n",
    "    - str: Strings\n",
    "    - bool: Boolean (True or False)"
   ]
  },
  {
   "cell_type": "code",
   "execution_count": null,
   "id": "d948eb5f-9c54-4071-b692-b61c35e44245",
   "metadata": {},
   "outputs": [
    {
     "name": "stdout",
     "output_type": "stream",
     "text": [
      "x has type <class 'int'>, while y has type <class 'float'>\n",
      "5\n"
     ]
    }
   ],
   "source": [
    "x = 5\n",
    "y = 2.5\n",
    "name = \"Alice\"\n",
    "is_student = True\n",
    "print(f\"x has type {type(x)}, while y has type {type(y)}\")\n",
    "y_int = int(x)\n",
    "print(y_int)\n"
   ]
  },
  {
   "cell_type": "markdown",
   "id": "e740298c-e7b4-4652-ae26-78c5808ce033",
   "metadata": {},
   "source": [
    "### 3. Data structures"
   ]
  },
  {
   "cell_type": "markdown",
   "id": "cd3b69b1-17e4-4ca0-897a-cdd10a86ae4e",
   "metadata": {},
   "source": [
    "#### 1. Lists\n",
    "    - Lists are used to store multiple items in a single variable.\n",
    "    - Lists can contain elements of different data types."
   ]
  },
  {
   "cell_type": "code",
   "execution_count": null,
   "id": "9c31bd18-3cf3-4403-9b6f-f7db40405133",
   "metadata": {},
   "outputs": [
    {
     "name": "stdout",
     "output_type": "stream",
     "text": [
      "the same element using negative and positive indexing:\n",
      " Postive: apple \n",
      " Negative: apple\n",
      "the same element using negative and positive indexing:\n",
      " Postive: banana \n",
      " Negative: banana\n",
      "the same element using negative and positive indexing:\n",
      " Postive: cherry \n",
      " Negative: cherry\n"
     ]
    }
   ],
   "source": [
    "fruits = [\"apple\", \"banana\", \"cherry\"]\n",
    "mixed_list = [1, 2.5, \"hello\"]\n",
    "print('the same element using negative and positive indexing:\\n Postive:',fruits[0],\n",
    "'\\n Negative:' , fruits[-3]  )\n",
    "print('the same element using negative and positive indexing:\\n Postive:',fruits[1],\n",
    "'\\n Negative:' , fruits[-2]  )\n",
    "print('the same element using negative and positive indexing:\\n Postive:',fruits[2],\n",
    "'\\n Negative:' , fruits[-1]  )\n",
    "\n",
    "\n"
   ]
  },
  {
   "cell_type": "code",
   "execution_count": null,
   "id": "6a2d2b1e-c2cc-435a-9bd0-385cdcf448db",
   "metadata": {},
   "outputs": [
    {
     "name": "stdout",
     "output_type": "stream",
     "text": [
      "list fruits after adding one item: ['apple', 'banana', 'cherry', 'orange', 'orange', 'Mango', 'Grape', 'orange', 'Mango', 'Grape', 'orange', 'Mango', 'Grape', 'orange', 'Mango', 'Grape', 'orange', 'Mango', 'Grape', 'orange', 'Mango', 'Grape', 'orange']\n",
      "list fruits after extend: ['apple', 'banana', 'cherry', 'orange', 'orange', 'Mango', 'Grape', 'orange', 'Mango', 'Grape', 'orange', 'Mango', 'Grape', 'orange', 'Mango', 'Grape', 'orange', 'Mango', 'Grape', 'orange', 'Mango', 'Grape', 'orange', 'Mango', 'Grape']\n",
      "Len of list 25\n",
      "Len of list 24\n"
     ]
    }
   ],
   "source": [
    "new_item = \"orange\"\n",
    "fruits.append(new_item)\n",
    "print(f\"list fruits after adding one item: {fruits}\")\n",
    "new_list = [\"Mango\", \"Grape\"]\n",
    "fruits.extend(new_list)\n",
    "print(f\"list fruits after extend: {fruits}\")\n",
    "len_fruits = len(fruits)\n",
    "print(f\"Len of list {len_fruits}\")\n",
    "fruits.pop()\n",
    "print(f\"Len of list {len(fruits)}\")"
   ]
  },
  {
   "cell_type": "code",
   "execution_count": null,
   "id": "c861fd0a-691d-49aa-ba23-09b8e222bdec",
   "metadata": {},
   "outputs": [
    {
     "name": "stdout",
     "output_type": "stream",
     "text": [
      "['orange', 'orange']\n",
      "apple pineapple\n"
     ]
    }
   ],
   "source": [
    "# slicing\n",
    "sliced_list  = fruits[3:5]\n",
    "print(sliced_list)\n",
    "sliced_list[0] = \"pineapple\"\n",
    "print(fruits[0], sliced_list[0])"
   ]
  },
  {
   "cell_type": "markdown",
   "id": "fdea3b4b-e140-48e3-a4b9-dacf073a258d",
   "metadata": {},
   "source": [
    "#### 2.Tuples\n",
    "\n",
    "##### What is a Tuple?\n",
    "It is similar to a list but with a key difference: tuples are immutable. This means once you create a tuple, you cannot change its elements.\n",
    "\n",
    "##### Creating a Tuple\n",
    "You can create a tuple by placing a sequence of elements within parentheses.\n",
    "\n",
    "```python\n",
    "my_tuple = (1, 2, 3, \"apple\")\n"
   ]
  },
  {
   "cell_type": "code",
   "execution_count": null,
   "id": "beaa17d5-bc44-43b2-a002-f55c06fe6ae1",
   "metadata": {},
   "outputs": [],
   "source": [
    "my_tuple = (1, 2, 3, \"apple\")\n",
    "first_element = my_tuple[0]  # Access the first element (1)\n",
    "x, y, z, fruit = my_tuple  # x=1, y=2, z=3, fruit=\"apple\"\n"
   ]
  },
  {
   "cell_type": "code",
   "execution_count": null,
   "id": "3d9bd1ac-c4e6-4bc1-8b5f-c4b1a175b87f",
   "metadata": {},
   "outputs": [
    {
     "ename": "TypeError",
     "evalue": "'tuple' object does not support item assignment",
     "output_type": "error",
     "traceback": [
      "\u001b[0;31m---------------------------------------------------------------------------\u001b[0m",
      "\u001b[0;31mTypeError\u001b[0m                                 Traceback (most recent call last)",
      "Cell \u001b[0;32mIn[33], line 2\u001b[0m\n\u001b[1;32m      1\u001b[0m \u001b[38;5;66;03m# This will raise an error\u001b[39;00m\n\u001b[0;32m----> 2\u001b[0m \u001b[43mmy_tuple\u001b[49m\u001b[43m[\u001b[49m\u001b[38;5;241;43m0\u001b[39;49m\u001b[43m]\u001b[49m \u001b[38;5;241m=\u001b[39m \u001b[38;5;241m10\u001b[39m\n",
      "\u001b[0;31mTypeError\u001b[0m: 'tuple' object does not support item assignment"
     ]
    }
   ],
   "source": [
    "# This will raise an error\n",
    "my_tuple[0] = 10"
   ]
  },
  {
   "cell_type": "markdown",
   "id": "4262cf0f-d76d-478a-99d1-c5c5c7ec6058",
   "metadata": {},
   "source": [
    "#### 3.Dictionaries\n",
    "Dictionaries are a versatile and essential data structure in Python. They are collections of key-value pairs that allow you to store and retrieve data efficiently. Each key is unique and maps to a specific value.\n",
    "\n",
    "##### Creating a Dictionary\n",
    "```python\n",
    "person = {\n",
    "    \"name\": \"Alice\",\n",
    "    \"age\": 30,\n",
    "    \"city\": \"New York\"\n",
    "}\n",
    "```\n",
    "\n",
    "\n",
    "##### Accessing Values\n",
    "\n",
    "```python\n",
    "print(person[\"name\"])  # Output: \"Alice\"\n",
    "```\n"
   ]
  },
  {
   "cell_type": "markdown",
   "id": "ef80b55d-42d2-4375-b6d5-f294e9b1d5ad",
   "metadata": {},
   "source": [
    "#### 4.Sets\n",
    "They represent an unordered collection of unique elements. Sets are useful for tasks that involve testing membership, removing duplicates, and performing mathematical operations like union and intersection."
   ]
  },
  {
   "cell_type": "code",
   "execution_count": null,
   "id": "31b7c93f-d9cf-427a-88a8-7852b5c9df78",
   "metadata": {},
   "outputs": [],
   "source": [
    "fruits = {\"apple\", \"banana\", \"cherry\"}\n",
    "# Union\n",
    "all_fruits = fruits.union({\"orange\", \"grape\"})\n",
    "\n",
    "# Intersection\n",
    "common_fruits = fruits.intersection({\"banana\", \"cherry\"})\n",
    "\n",
    "# Adding and Removing Elements\n",
    "fruits.add(\"strawberry\")\n",
    "fruits.remove(\"cherry\")\n"
   ]
  },
  {
   "cell_type": "markdown",
   "id": "08edd6b1-375b-4705-b160-408892464269",
   "metadata": {},
   "source": [
    "### 3. Control Structures\n",
    "Python uses if statements for decision-making and loops for repetitive tasks."
   ]
  },
  {
   "cell_type": "code",
   "execution_count": null,
   "id": "f7f2f3cd-2f3c-4c48-ae2c-3ba281becca9",
   "metadata": {},
   "outputs": [
    {
     "name": "stdout",
     "output_type": "stream",
     "text": [
      "You are an adult.\n",
      "apple\n",
      "banana\n",
      "cherry\n",
      "fruits[0] = apple\n",
      "fruits[1] = banana\n",
      "fruits[2] = cherry\n"
     ]
    }
   ],
   "source": [
    "# If Statement\n",
    "age = 18\n",
    "if age >= 18:\n",
    "    print(\"You are an adult.\")\n",
    "else:\n",
    "    print(\"You are a minor.\")\n",
    "\n",
    "# For Loop\n",
    "fruits = [\"apple\", \"banana\", \"cherry\"]\n",
    "for fruit in fruits:\n",
    "    print(fruit)\n",
    "\n",
    "# while loop\n",
    "counter = 0\n",
    "while counter < len(fruits):\n",
    "    print(f\"fruits[{counter}] = {fruits[counter]}\")\n",
    "    counter += 1"
   ]
  },
  {
   "cell_type": "markdown",
   "id": "86509ec4-9b79-4f3e-ab55-698ce1d2ebe2",
   "metadata": {},
   "source": [
    "### 4. Functions\n",
    "    - Functions are reusable blocks of code.\n",
    "    - They can accept parameters and return values."
   ]
  },
  {
   "cell_type": "code",
   "execution_count": null,
   "id": "4e11b16f-1adb-4a58-b97c-3abc1ea2cc53",
   "metadata": {},
   "outputs": [
    {
     "name": "stdout",
     "output_type": "stream",
     "text": [
      "Hello, Alice\n"
     ]
    }
   ],
   "source": [
    "def greet(name):\n",
    "    return \"Hello, \" + name\n",
    "\n",
    "message = greet(\"Alice\")\n",
    "print(message)\n"
   ]
  },
  {
   "cell_type": "markdown",
   "id": "816e2c7b-16e3-4280-bfef-475a8c8cf8c8",
   "metadata": {},
   "source": [
    "### 5. Exception Handling\n",
    "\n",
    "#### What Are Exceptions?\n",
    "\n",
    "In Python, an exception is an event that occurs during the execution of a program and disrupts the normal flow of instructions. Exceptions are raised for various reasons, such as errors in code, unexpected conditions, or user actions.\n",
    "\n",
    "#### Common Exceptions\n",
    "Python has a wide range of built-in exceptions, including:\n",
    "- `SyntaxError`: Occurs when the code contains a syntax error.\n",
    "- `NameError`: Raised when a local or global name is not found.\n",
    "- `TypeError`: Happens when an operation is performed on an inappropriate data type.\n",
    "- `ValueError`: Occurs when a function receives an argument of the correct type but an inappropriate value.\n",
    "- `ZeroDivisionError`: Raised when dividing by zero.\n",
    "- `FileNotFoundError`: Happens when trying to open a file that doesn't exist.\n",
    "- and many more...\n",
    "\n",
    "#### Exception Handling\n",
    "\n",
    "Exception handling is a programming concept that allows you to deal with exceptions gracefully instead of letting them crash your program. It provides a way to capture, handle, and recover from exceptions.\n",
    "\n",
    "#### The `try` and `except` Blocks\n",
    "\n",
    "In Python, you can use a `try` block to enclose code that might raise an exception. After the `try` block, you can add one or more `except` blocks to handle specific exceptions.\n",
    "\n",
    "```python\n",
    "try:\n",
    "    # Code that may raise an exception\n",
    "    result = 10 / 0\n",
    "except ZeroDivisionError:\n",
    "    # Code to handle the ZeroDivisionError\n",
    "    result = \"Division by zero is not allowed\"\n"
   ]
  },
  {
   "cell_type": "code",
   "execution_count": null,
   "id": "15836109-0b63-47eb-9e6f-47fabd5de287",
   "metadata": {},
   "outputs": [
    {
     "ename": "SyntaxError",
     "evalue": "expected ':' (2375171928.py, line 2)",
     "output_type": "error",
     "traceback": [
      "\u001b[0;36m  Cell \u001b[0;32mIn[41], line 2\u001b[0;36m\u001b[0m\n\u001b[0;31m    for i in range(5)  # Missing colon here\u001b[0m\n\u001b[0m                       ^\u001b[0m\n\u001b[0;31mSyntaxError\u001b[0m\u001b[0;31m:\u001b[0m expected ':'\n"
     ]
    }
   ],
   "source": [
    "# Syntax Error: Missing colon\n",
    "for i in range(5)  # Missing colon here\n",
    "    print(i)"
   ]
  },
  {
   "cell_type": "code",
   "execution_count": null,
   "id": "4871e411-1794-4235-b835-9bd40c22d075",
   "metadata": {},
   "outputs": [
    {
     "name": "stdout",
     "output_type": "stream",
     "text": [
      "Execution completed.\n",
      "Division by zero is not allowed\n"
     ]
    }
   ],
   "source": [
    "try:\n",
    "    # Code that may raise an exception\n",
    "    result = 10 / 0\n",
    "except ZeroDivisionError:\n",
    "    # Code to handle the ZeroDivisionError\n",
    "    result = \"Division by zero is not allowed\"\n",
    "finally:\n",
    "    # Code that always runs, even if there was no exception\n",
    "    print(result)\n",
    "    print(\"Execution completed.\")\n"
   ]
  },
  {
   "cell_type": "markdown",
   "id": "7bb9838a-b61d-4285-9c7b-103d8d85d60a",
   "metadata": {},
   "source": [
    "## Does Python Know About Your Errors Before Execution?\n",
    "\n",
    "Python is classified as an interpreted language. Compiled languages inspect your entire program at compile time, allowing them to identify and warn you about a range of errors before execution. In contrast, Python interprets your script line by line as it runs. If Python encounters an error, it will halt the entire program's execution, unless the error is expected and handled by the programmer. Handling errors is a more advanced topic that we'll explore later in this course.\n",
    "\n",
    "Feel free to run the code in the cell below and observe the outcome:\n"
   ]
  },
  {
   "cell_type": "code",
   "execution_count": null,
   "id": "bddce54f-c4a4-4751-b79c-324f98a5a867",
   "metadata": {},
   "outputs": [
    {
     "name": "stdout",
     "output_type": "stream",
     "text": [
      "This will be printed\n"
     ]
    },
    {
     "ename": "NameError",
     "evalue": "name 'frint' is not defined",
     "output_type": "error",
     "traceback": [
      "\u001b[0;31m---------------------------------------------------------------------------\u001b[0m",
      "\u001b[0;31mNameError\u001b[0m                                 Traceback (most recent call last)",
      "Cell \u001b[0;32mIn[6], line 4\u001b[0m\n\u001b[1;32m      1\u001b[0m \u001b[38;5;66;03m# Print string and error to see the running order\u001b[39;00m\n\u001b[1;32m      3\u001b[0m \u001b[38;5;28mprint\u001b[39m(\u001b[38;5;124m\"\u001b[39m\u001b[38;5;124mThis will be printed\u001b[39m\u001b[38;5;124m\"\u001b[39m)\n\u001b[0;32m----> 4\u001b[0m \u001b[43mfrint\u001b[49m(\u001b[38;5;124m\"\u001b[39m\u001b[38;5;124mThis will cause an error\u001b[39m\u001b[38;5;124m\"\u001b[39m)\n\u001b[1;32m      5\u001b[0m \u001b[38;5;28mprint\u001b[39m(\u001b[38;5;124m\"\u001b[39m\u001b[38;5;124mThis will NOT be printed\u001b[39m\u001b[38;5;124m\"\u001b[39m)\n",
      "\u001b[0;31mNameError\u001b[0m: name 'frint' is not defined"
     ]
    }
   ],
   "source": [
    "# Print string and error to see the running order\n",
    "\n",
    "print(\"This will be printed\")\n",
    "frint(\"This will cause an error\")\n",
    "print(\"This will NOT be printed\")"
   ]
  },
  {
   "cell_type": "markdown",
   "id": "d28b3a72-494d-49e9-984b-537544f90874",
   "metadata": {},
   "source": [
    "## Resources\n",
    "\n",
    "[1]  https://www.kaggle.com/code/jhoward/jupyter-notebook-101\n"
   ]
  },
  {
   "cell_type": "markdown",
   "id": "426311e9",
   "metadata": {},
   "source": [
    "By: PhD. Yazan Dayoub"
   ]
  }
 ],
 "metadata": {
  "kernelspec": {
   "display_name": "Python 3 (ipykernel)",
   "language": "python",
   "name": "python3"
  }
 },
 "nbformat": 4,
 "nbformat_minor": 5
}
