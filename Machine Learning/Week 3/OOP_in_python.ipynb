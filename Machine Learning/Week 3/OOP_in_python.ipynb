{
 "cells": [
  {
   "cell_type": "markdown",
   "id": "4657c7cd-7fc7-4811-a497-36fcf6229533",
   "metadata": {},
   "source": [
    "# Introduction to Object-Oriented Programming (OOP) in Python\n",
    "\n",
    "Object-Oriented Programming (OOP) is a programming paradigm that allows you to model real-world entities and their interactions using objects and classes. Python is an object-oriented language, and it excels in creating and working with objects. In this Jupyter Notebook, we'll introduce you to the fundamental concepts of OOP in Python and provide practical examples.\n",
    "\n",
    "## Key Concepts\n",
    "\n",
    "### Classes and Objects\n",
    "\n",
    "- **Class**: A blueprint for creating objects. It defines attributes (variables) and methods (functions) that the objects will have.\n",
    "- **Object**: An instance of a class. Objects have their own unique data and can perform actions defined in the class.\n",
    "\n",
    "### Attributes and Methods\n",
    "\n",
    "- **Attributes**: Variables that store data related to the object.\n",
    "- **Methods**: Functions that define the behavior of the object.\n",
    "\n",
    "### Encapsulation\n",
    "\n",
    "- **Encapsulation**: The practice of bundling data (attributes) and the methods that operate on the data into a single unit (class).\n",
    "\n",
    "### Inheritance\n",
    "\n",
    "- **Inheritance**: A mechanism that allows a class (subclass or derived class) to inherit properties and behaviors from another class (superclass or base class).\n",
    "\n",
    "### Polymorphism\n",
    "\n",
    "- **Polymorphism**: The ability of different classes to be treated as instances of a common base class.\n"
   ]
  },
  {
   "cell_type": "markdown",
   "id": "90e15d6b-5dc0-4468-a585-cd37a8703bd5",
   "metadata": {},
   "source": [
    "## Examples\n",
    "\n",
    "Let's dive into some simple examples to understand these concepts better:\n",
    "\n",
    "### Example 1: Creating a Class and Object\n",
    "\n",
    "We'll create a class representing a `Person` and instantiate objects from it.\n"
   ]
  },
  {
   "cell_type": "code",
   "execution_count": null,
   "id": "274ca395-5ed1-427d-bd00-6727a930bf56",
   "metadata": {},
   "outputs": [
    {
     "name": "stdout",
     "output_type": "stream",
     "text": [
      "Alice\n",
      "Hello, my name is Bob, and I'm 25 years old.\n"
     ]
    }
   ],
   "source": [
    "class Person:\n",
    "    def __init__(self, name, age):\n",
    "        self.name = name\n",
    "        self.age = age\n",
    "\n",
    "    def greet(self):\n",
    "        return f\"Hello, my name is {self.name}, and I'm {self.age} years old.\"\n",
    "\n",
    "# Creating objects\n",
    "person1 = Person(\"Alice\", 30)\n",
    "person2 = Person(\"Bob\", 25)\n",
    "\n",
    "# Accessing attributes and calling methods\n",
    "print(person1.name)\n",
    "print(person2.greet())"
   ]
  },
  {
   "cell_type": "markdown",
   "id": "5eeb1387-aa8e-406d-ac9c-46d20579d21f",
   "metadata": {},
   "source": [
    "### Example 2: Inheritance\n",
    "We'll create a base class `Animal` and a derived class `Dog` that inherits from `Animal`."
   ]
  },
  {
   "cell_type": "code",
   "execution_count": null,
   "id": "e0d4a206-827e-4308-8017-01c51a20df70",
   "metadata": {},
   "outputs": [
    {
     "name": "stdout",
     "output_type": "stream",
     "text": [
      "Woof!\n"
     ]
    }
   ],
   "source": [
    "class Animal:\n",
    "    def __init__(self, name):\n",
    "        self.name = name\n",
    "\n",
    "    def speak(self):\n",
    "        pass\n",
    "\n",
    "class Dog(Animal):\n",
    "    def speak(self):\n",
    "        return \"Woof!\"\n",
    "\n",
    "# Creating objects\n",
    "dog = Dog(\"Buddy\")\n",
    "\n",
    "# Calling methods\n",
    "print(dog.speak())\n"
   ]
  },
  {
   "cell_type": "markdown",
   "id": "92bf803c-6633-49f9-ad5e-e1c3fe7719ad",
   "metadata": {},
   "source": [
    "### Example3: Polymorphism\n",
    "We'll create a base class `Animal` with a speak method, and two derived classes, `Dog` and `Cat`, that override the `speak` method. The `animal_sound` function demonstrates polymorphism by accepting any object of type `Animal` (base class) and calling its `speak` method."
   ]
  },
  {
   "cell_type": "code",
   "execution_count": null,
   "id": "2a146442-93a5-478c-a9ed-a51627cce66c",
   "metadata": {},
   "outputs": [
    {
     "name": "stdout",
     "output_type": "stream",
     "text": [
      "Buddy says: Woof!\n",
      "Whiskers says: Meow!\n"
     ]
    }
   ],
   "source": [
    "# Base class\n",
    "class Animal:\n",
    "    def __init__(self, name):\n",
    "        self.name = name\n",
    "\n",
    "    def speak(self):\n",
    "        pass\n",
    "\n",
    "# Derived class 1\n",
    "class Dog(Animal):\n",
    "    def speak(self):\n",
    "        return \"Woof!\"\n",
    "\n",
    "# Derived class 2\n",
    "class Cat(Animal):\n",
    "    def speak(self):\n",
    "        return \"Meow!\"\n",
    "\n",
    "# Function to demonstrate polymorphism\n",
    "def animal_sound(animal):\n",
    "    return animal.speak()\n",
    "\n",
    "# Creating objects\n",
    "dog = Dog(\"Buddy\")\n",
    "cat = Cat(\"Whiskers\")\n",
    "\n",
    "# Using polymorphism to call speak method on different objects\n",
    "print(f\"{dog.name} says: {animal_sound(dog)}\")\n",
    "print(f\"{cat.name} says: {animal_sound(cat)}\")\n"
   ]
  },
  {
   "cell_type": "code",
   "execution_count": null,
   "id": "6cc0b517-0ecd-49b8-ac6a-aed7db7e283c",
   "metadata": {},
   "outputs": [],
   "source": []
  },
  {
   "cell_type": "markdown",
   "id": "426311e9",
   "metadata": {},
   "source": [
    "By: PhD. Yazan Dayoub"
   ]
  }
 ],
 "metadata": {
  "kernelspec": {
   "display_name": "Python 3 (ipykernel)",
   "language": "python",
   "name": "python3"
  }
 },
 "nbformat": 4,
 "nbformat_minor": 5
}
